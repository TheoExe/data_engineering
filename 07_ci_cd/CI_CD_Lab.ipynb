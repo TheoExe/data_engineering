{
 "cells": [
  {
   "cell_type": "markdown",
   "id": "078c6876-5e1e-4c35-8640-67f3969486e3",
   "metadata": {},
   "source": [
    "# CI/CD Lab: Setting up CircleCi to run tests on github check ins\n",
    "## In this lab you will set up your github repo to run your basic tests every time you push a new change.+"
   ]
  },
  {
   "cell_type": "markdown",
   "id": "a2e1bebd-99d9-4be2-a885-cea952fa6501",
   "metadata": {},
   "source": [
    "## The required steps are\n",
    "1. Sign up for a CircleCi account\n",
    "2. Add your github information to connect the two accounts\n",
    "3. Link a specific repo to be 'watched' in cirleci\n",
    "4. Set up the circleci yaml file in the selected repo\n",
    "5. Git push a change and view feedback in circleci\n",
    "6. Interrupt the shutdown of the circleci server, in order to debug (simulated error)"
   ]
  },
  {
   "cell_type": "markdown",
   "id": "fb3c501d-f39c-4443-ad93-56a0027988de",
   "metadata": {},
   "source": [
    "## Open CircleCI account\n",
    "* Go to https://circleci.com/signup/ and create an account\n",
    "* It is probably easiest to use Github signup so the accounts are connected from the start\n",
    "* Once you connect, you should see a list of your repositories in CircleCi\n",
    "\n",
    "For the following it will help to have both your github page open to your repo, and your circlci page open.\n",
    "\n",
    "## Set up your repository (steps 1-4)\n",
    "* Select your github repository from the list\n",
    "* First question will which method to use to start with, select to use the `fastest`, or to use a template you can edit\n",
    "* Once at the template, you only need to make one changes, in the test section change `pytest` to `pytest -vv tests`, this will run the tests in the tests directory only and be extra verbose.\n",
    "* Note that pip will use requirements.txt to install packages, so we'll need to make sure `pytest` is in the file\n",
    "* Note also, that circleci will add the yaml file to a branch, you'll need to merge to your main branch to put things together.\n",
    "\n",
    "If all went well, you should see a build run.  You should have the option to merge now if you haven't already.\n",
    "\n",
    "For the last step, let's make a change\n",
    "## Step 5, add a new test to tests/tests_ file.  For brevity just add a fake test like this\n",
    "```python\n",
    "def test_circleci_change():\n",
    "    assert True, \"Just a test to force a change\"\n",
    "```\n",
    "\n",
    "Now add and commit the change.  The CircleCi console should show a new build running.  When it gets to the tests, you should now be able to see the name of the new test show up `test_circleci_change`... (this is the reason we added the -vv to the yaml file earlier)"
   ]
  },
  {
   "cell_type": "markdown",
   "id": "2b6ef946-0791-47d5-a0e8-6cf20f3b468b",
   "metadata": {},
   "source": [
    "## Step 6, interrupting the flow of the build to debug\n",
    "Since you linked your github account to your CircleCI account, the same ssh key used to push changes to github can be used to temporariliy ssh to one of the servers running a build.\n",
    "\n",
    "Go to the project page for your repo in CircleCI, to the upper right you'll see a button [Rerun].  If you click and down arrow you'll see a couple of options.\n",
    "\n",
    "What we want to do is `Rerun Job with SSH`.  This will rerun the last build, but automatically insert your github key onto the server and set up an ssh session.  Select that option, and watch the steps.\n",
    "* You should now see a new step `Enable SSH` happen early on in the process.\n",
    "* After the tests run, you should see a final step `Wait for SSH session`  Open that when it's ready and you should see something like this:\n",
    "\n"
   ]
  },
  {
   "cell_type": "markdown",
   "id": "481a9621-102c-40f3-b38d-a7ce5527e3bb",
   "metadata": {},
   "source": [
    "```bash\n",
    "You can now SSH into this box if your SSH public key is added:\n",
    "    $ ssh -p 64535 44.204.99.42\n",
    "\n",
    "Use the same SSH public key that you use for your VCS-provider (e.g., GitHub).\n",
    "\n",
    "\n",
    "RSA key fingerprint of the host is\n",
    "  SHA256:OPNJaTzVH6W5bcWtQrlYcalNowtLd2cFD9t5fwce/fY\n",
    "  MD5:ff:5b:1d:28:40:24:b3:87:2e:9f:07:a4:a4:59:a5:f6\n",
    "\n",
    "\n",
    "ED25519 key fingerprint of the host is\n",
    "  SHA256:cJXBxBXc8etROSW4rxJ+uX5zGWHbOifRDNz61jFNYcw\n",
    "  MD5:92:d1:b4:d8:7f:84:42:4d:3c:0d:d7:d2:78:d9:bb:16\n",
    "\n",
    "\n",
    "rsa-sha2-512 key fingerprint of the host is\n",
    "  SHA256:OPNJaTzVH6W5bcWtQrlYcalNowtLd2cFD9t5fwce/fY\n",
    "  MD5:ff:5b:1d:28:40:24:b3:87:2e:9f:07:a4:a4:59:a5:f6\n",
    "\n",
    "\n",
    "rsa-sha2-256 key fingerprint of the host is\n",
    "  SHA256:OPNJaTzVH6W5bcWtQrlYcalNowtLd2cFD9t5fwce/fY\n",
    "  MD5:ff:5b:1d:28:40:24:b3:87:2e:9f:07:a4:a4:59:a5:f6\n",
    "\n",
    "This box will stay up for 2h0m0s, or until 10m0s passes without an active SSH session.\n",
    "```\n"
   ]
  },
  {
   "cell_type": "markdown",
   "id": "9fd27ac2-eb9d-4161-bf8e-1e38493f8349",
   "metadata": {},
   "source": [
    "## Sshing to the box\n",
    "Now that CircleCI has add the key and started the server, it will pause for a few minutes so you can ssh.\n",
    "\n",
    "Note that you should be using a machine set up for github, if you can push to your github repo with your ssh key the following should work.\n",
    "\n",
    "* Open a command line prompt on your machine\n",
    "* Copy the line `ssh -p 64535 44.204.99.42` which will contain the specific port and ip of the server that is up temporarily\n",
    "* Cut and past it and execute the line\n",
    "* If successful you should see the prompt change and you should now be ssh'd to the server running on CircleCi's side.\n",
    "* You can now use the usual bash/linux commands to inspect your code and run some commands."
   ]
  }
 ],
 "metadata": {
  "kernelspec": {
   "display_name": "Python 3 (ipykernel)",
   "language": "python",
   "name": "python3"
  },
  "language_info": {
   "codemirror_mode": {
    "name": "ipython",
    "version": 3
   },
   "file_extension": ".py",
   "mimetype": "text/x-python",
   "name": "python",
   "nbconvert_exporter": "python",
   "pygments_lexer": "ipython3",
   "version": "3.7.7"
  }
 },
 "nbformat": 4,
 "nbformat_minor": 5
}
