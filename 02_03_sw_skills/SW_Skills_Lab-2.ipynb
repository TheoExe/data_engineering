{
 "cells": [
  {
   "cell_type": "markdown",
   "id": "f33551b4",
   "metadata": {},
   "source": [
    "# Software Skills lab 2: "
   ]
  },
  {
   "cell_type": "markdown",
   "id": "3fc463d4-34a6-46da-898b-63d8637c33b1",
   "metadata": {},
   "source": [
    "# Exploring the Singleton Pattern\n",
    "## Affirm we're getting the same object\n",
    "\n",
    "* Assure yourself that the pattern is doing as expected \n",
    "```\n",
    "  2 class Singleton:\n",
    "  3     def __new__(cls):\n",
    "  4         if not hasattr(cls, 'instance'):\n",
    "  5             cls.instance = super(Singleton, cls).__new__(cls)\n",
    "  6         return cls.instance\n",
    "```  \n",
    "* Make two calls to `Singleton()` stored in variables `a` and `b`.  Now write an `assert` using python's `id` function to insure they are the same object.\n",
    "\n",
    "## Init behavior\n",
    "* Now add an `__init__` function to your Singleton with a print statement\n",
    "* What happens when you run your short script now?  How many print statements show up?\n",
    "\n",
    "## Custom initializer\n",
    "* Now add a function called `init_once` with an adequate print statement to the Singleton class.\n",
    "* Add the function between lines 5 and 6 in the example above, `cls.instance.init_once()`\n",
    "* How many print statements show up from this function show up when you run your script?\n",
    "\n",
    "## Add a reference counter\n",
    "* Add a class level variable between lines 2 and 3 `count = 0`\n",
    "* Now in the `__init__` function increment this counter by 1 and print it's value.\n",
    "* What do you see as the print out as the value of count when you run your script?"
   ]
  },
  {
   "cell_type": "markdown",
   "id": "a774b559-2552-441a-a564-6892a646fe59",
   "metadata": {
    "tags": []
   },
   "source": [
    "# SOLUTION\n",
    "```python\n",
    "class Singleton:\n",
    "    count = 0\n",
    "    def __new__(cls):\n",
    "        if not hasattr(cls, 'instance'):\n",
    "            cls.instance = super(Singleton, cls).__new__(cls)\n",
    "            cls.instance.initialize_once()\n",
    "        return cls.instance\n",
    "\n",
    "    def __init__(self):\n",
    "        self.count += 1\n",
    "        print(self.count)\n",
    "        print(\"INIT\")\n",
    "\n",
    "\n",
    "    def initialize_once(self):\n",
    "        print(\"initialize once\")\n",
    "\n",
    "    def do_something(self):\n",
    "        print(\"do something\")\n",
    "\n",
    "a = Singleton()\n",
    "b = Singleton()\n",
    "\n",
    "assert id(a) == id(b)\n",
    "print(id(a))\n",
    "print(id(b))\n",
    "\n",
    "\n",
    "a.do_something()\n",
    "b.do_something()\n",
    "```\n",
    "## Should print\n",
    "```\n",
    "initialize once\n",
    "1\n",
    "INIT\n",
    "2\n",
    "INIT\n",
    "4470710128\n",
    "4470710128\n",
    "do something\n",
    "do something\n",
    "```"
   ]
  },
  {
   "cell_type": "markdown",
   "id": "5624a751",
   "metadata": {},
   "source": [
    "# Test LAB installable package part III - Testing\n",
    "\n",
    "### In this lab, you'll extend the package you created with a test suite using pytest"
   ]
  },
  {
   "cell_type": "markdown",
   "id": "e447cc6d",
   "metadata": {},
   "source": [
    "## Edit the requirements.txt\n",
    "* Add `pytest`\n",
    "* Once in the virtual environment, run `pip install -r requirements.txt` to install pytest\n",
    "* Create a `tests` directory with `mkdir tests`\n",
    "\n",
    "## Pytest looks for files with `test_` as the beggining of the name\n",
    "### You can run pytest directly on a file with `pytest <filename>`, any function starting with `test_` will be run.  In a recursive way, if you pass a directory name, any files that start with `test_` will be run.\n",
    "* Add a file in the tests directory `tests/test_shared.py`\n",
    "\n",
    "#WIP: From python testing with pytest, after basic setup ^^\n",
    "* use pytest decorators to mark tests as expected to fail\n",
    "* use the parametrizing decorator and functions to show how to test multi values\n",
    "* explore the command line flags to run all, run one, color, and different reports\n",
    "\n",
    "By the end of this setup we should be set to add this repo to CircleCI and the first thing we'll do is plug in the tests to see results in CircleCI"
   ]
  }
 ],
 "metadata": {
  "kernelspec": {
   "display_name": "Python 3 (ipykernel)",
   "language": "python",
   "name": "python3"
  },
  "language_info": {
   "codemirror_mode": {
    "name": "ipython",
    "version": 3
   },
   "file_extension": ".py",
   "mimetype": "text/x-python",
   "name": "python",
   "nbconvert_exporter": "python",
   "pygments_lexer": "ipython3",
   "version": "3.9.7"
  }
 },
 "nbformat": 4,
 "nbformat_minor": 5
}
