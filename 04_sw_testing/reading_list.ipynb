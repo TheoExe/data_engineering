{
 "cells": [
  {
   "cell_type": "markdown",
   "id": "67697a9b",
   "metadata": {},
   "source": [
    "# Reading list for Software Testing\n",
    "\n",
    "\n",
    "## Test-Driven Machine Learning\n",
    "\n",
    "|Chap|Pg | Description                                   |Pgs|\n",
    "|--: |---| :---------------------------------------------|:--|\n",
    "| 1  |1  | Introducing Test-Driven Machine Learning      | 20|\n",
    "| 2  |21 | Testing a Perceptron                          | 13|\n",
    "| 5  |67 | Making Black/White Deiciions with Regression  | 10|\n",
    "| 6  |79 | Naive Bayes                                   | 20|       \n",
    "| 8  |117| Explore scikit-learn Test First               | 22|\n",
    "\n",
    "Total Pages: 85\n",
    "\n",
    "## Python Testing with Pytest\n",
    "|Chap|Pg | Description                                   |Pgs|\n",
    "|--: |---| :---------------------------------------------|:--|\n",
    "| 1  |1  | Getting Started with Python                   |23 |\n",
    "| 2  |23 | Writing Test Functions                        |25 |\n",
    "| 3  |49 | Gherkin Basics                                |19 |\n",
    "\n",
    "Total Pages: 67\n",
    "\n",
    "## The Cucumber For Java Book\n",
    "|Chap|Pg | Description                                   |Pgs|\n",
    "|--: |---| :---------------------------------------------|:--|\n",
    "| 1  |3  | Why Cucumber                                  |  5|\n",
    "| 2  |11 | First Taste                                   | 16|\n",
    "| 3  |31 | Gherkin Basics                                | 11|\n",
    "       \n",
    "Total Pages: 32\n",
    "\n",
    "# Additional Sources\n",
    "* Test Driven Development \n",
    "    - Introduction\n",
    "    - Light read, graze over chapts 1 to 3\n",
    "* Why programs Fail\n",
    "    - Introduction and Foreword\n",
    "    - peruse first paragraph of each chapter and look around\n",
    "    - Journal your thoughts, this book is the extreme case where\n",
    "         debugging, and bug hunting become an engineering practice\n",
    "         onto itself."
   ]
  }
 ],
 "metadata": {
  "kernelspec": {
   "display_name": "Python 3",
   "language": "python",
   "name": "python3"
  },
  "language_info": {
   "codemirror_mode": {
    "name": "ipython",
    "version": 3
   },
   "file_extension": ".py",
   "mimetype": "text/x-python",
   "name": "python",
   "nbconvert_exporter": "python",
   "pygments_lexer": "ipython3",
   "version": "3.7.7"
  }
 },
 "nbformat": 4,
 "nbformat_minor": 5
}
