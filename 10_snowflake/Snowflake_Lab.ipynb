{
 "cells": [
  {
   "cell_type": "markdown",
   "id": "94bd85f0-24c3-45d3-975d-4838c1036ab9",
   "metadata": {},
   "source": [
    "# Snowflake Lab\n",
    "In this lab, we'll open a trial account for snowflake, and then practice loading data and transforming it in the cloud via it's web UI.\n",
    "\n",
    " - 1 Creating a snowflake account\n",
    " - 2 Loading Data from local drive\n",
    " - 3 Query our data using SQL"
   ]
  },
  {
   "cell_type": "markdown",
   "id": "71b6970c-07e8-4d44-9d62-19a5a7025dc6",
   "metadata": {},
   "source": [
    "## 1 Creating a snowflake account\n",
    "\n",
    "In this section you'll sign up for a trial account so we can play with Snowflake.  The account should be good for 30 days, and snowflake provides up to 400$ for compute costs.  \n",
    "\n",
    "For this section, you'll sign up at `snowflake.com` for a trial account\n",
    "* After entering your name and email, select `Enterprise` type of account\n",
    "* Select a cloud provider, select Amazon and select US West (Oregon), alternatively you can select the data center nearest you, but sharing data is easier in the same region.\n",
    "\n",
    "After signing up you'll recieve an email confirmation\n",
    "\n",
    "Please watch the intro video, it's like 8 minutes long and has a broad overview of the latest in Snowflake"
   ]
  },
  {
   "cell_type": "markdown",
   "id": "ca218d9f-04ef-476a-b6e9-70a85901520b",
   "metadata": {},
   "source": [
    "# 2 Loading Data From Local Drive\n",
    "In this section, we'll do a quick upload of the iris data set we used back in our linux session\n",
    "\n",
    "* From `https://app.snowflake.com/learn` go to the `Load Your Data` section and select `Upload a cSV`\n",
    "* Navigate to the file, which should be stored in your github repository as `01_linux/iris_data.csv`\n",
    "* Unselect the `Use the first row as header` since our file doesn't have a header.\n",
    "* Select `COMPUTE_WH`\n",
    "* Hit `Next` button.\n",
    "* In the next window, keep the default, `Create new Database`\n",
    "* Name the database 'DATA_SCIENCE'\n",
    "* For Schema, we'll create a new one called `CLASSIC_DATA_SETS`\n",
    "* And finally our table name `IRIS_DATA`\n",
    "* Click the `[Next]` button\n",
    "* At the next window, you'll be asked to name the columns of our CSV file.  Snowflake will have attemplted to guess the type, so you'll likely see `Float` for the first 4 columns and then `VARCHAR` for the name.\n",
    "* Enter the names for the first numeric fields `SEPAL_L`, `SEPAL_W`, `PETAL_L`, `PETAL_W`.\n",
    "* And for the last field, `CLASS`\n",
    "* Now can hit the `[Import]` button\n",
    "\n",
    "If all went well, you should now see `150 rows have been successfullly inserted into the table`\n",
    "\n",
    "* Select `[Query Data]` button which will start the next section\n"
   ]
  },
  {
   "cell_type": "markdown",
   "id": "0f9de901-75d2-47e7-9ab5-e6f388d4863e",
   "metadata": {},
   "source": [
    "# 3 Now that we have loaded some data, we can run SQL queries from a worksheet\n",
    "In this section we'll try out some simple queries on the data we just loaded using the Snowflake UI\n",
    "\n",
    "If you hit the `[Query Data]` button in the last section, you should now be in a work-sheet.  Work-sheets show up on the left hand side in the `NEW` Snowflake menu.  (In the classic menu, they show up near the top, like browser tabs).\n",
    "\n",
    "The default query should be present in the sheet\n",
    "```sql\n",
    "SELECT\n",
    "  *\n",
    "FROM\n",
    "  IRIS_DATA\n",
    "LIMIT\n",
    "  10;\n",
    "```\n",
    "  \n",
    "If it is not, you can type in the text, or if you didn't come directly to this step from step 2.\n",
    "\n",
    "### Executing a sql command\n",
    "* To execute the sql, put the cursor somewhere in the statement and hit `<CTL>-<ENTER>`\n",
    "* You should now see the first 10 rows of our sample data\n",
    "\n"
   ]
  }
 ],
 "metadata": {
  "kernelspec": {
   "display_name": "Python 3 (ipykernel)",
   "language": "python",
   "name": "python3"
  },
  "language_info": {
   "codemirror_mode": {
    "name": "ipython",
    "version": 3
   },
   "file_extension": ".py",
   "mimetype": "text/x-python",
   "name": "python",
   "nbconvert_exporter": "python",
   "pygments_lexer": "ipython3",
   "version": "3.7.7"
  }
 },
 "nbformat": 4,
 "nbformat_minor": 5
}
